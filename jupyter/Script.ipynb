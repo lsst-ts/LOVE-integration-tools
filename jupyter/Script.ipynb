{
 "cells": [
  {
   "cell_type": "code",
   "execution_count": null,
   "id": "78dfbbd2",
   "metadata": {},
   "outputs": [],
   "source": [
    "# This file is part of LOVE-integration-tools\n",
    "#\n",
    "# Developed for the LSST Telescope and Site Systems.\n",
    "# This product includes software developed by Inria Chile and the LSST Project\n",
    "# (https://www.lsst.org).\n",
    "# See the COPYRIGHT file at the top-level directory of this distribution\n",
    "# for details of code ownership.\n",
    "#\n",
    "# This program is free software: you can redistribute it and/or modify\n",
    "# it under the terms of the GNU General Public License as published by\n",
    "# the Free Software Foundation, either version 3 of the License, or\n",
    "# (at your option) any later version.\n",
    "#\n",
    "# This program is distributed in the hope that it will be useful,\n",
    "# but WITHOUT ANY WARRANTY; without even the implied warranty of\n",
    "# MERCHANTABILITY or FITNESS FOR A PARTICULAR PURPOSE.  See the\n",
    "# GNU General Public License for more details.\n",
    "#\n",
    "# You should have received a copy of the GNU General Public License"
   ]
  },
  {
   "cell_type": "code",
   "execution_count": 1,
   "id": "31d43ef1-43f4-494d-97ae-687c50391ec2",
   "metadata": {},
   "outputs": [
    {
     "name": "stderr",
     "output_type": "stream",
     "text": [
      "current_tai uses current_tai_from_utc; clock_gettime(CLOCK_TAI) is off by 37.0 seconds\n"
     ]
    }
   ],
   "source": [
    "from lsst.ts import salobj"
   ]
  },
  {
   "cell_type": "code",
   "execution_count": 2,
   "id": "ba2a0f86-a3df-4268-b534-26bb123b6749",
   "metadata": {},
   "outputs": [],
   "source": [
    "r = salobj.Remote(salobj.Domain(),'Script', 0)"
   ]
  },
  {
   "cell_type": "code",
   "execution_count": 3,
   "id": "126ece94-f6a4-48bc-857b-8d4f1c32c2f3",
   "metadata": {},
   "outputs": [
    {
     "data": {
      "text/plain": [
       "['evt_authList',\n",
       " 'evt_checkpoints',\n",
       " 'evt_description',\n",
       " 'evt_heartbeat',\n",
       " 'evt_logLevel',\n",
       " 'evt_logMessage',\n",
       " 'evt_metadata',\n",
       " 'evt_state']"
      ]
     },
     "execution_count": 3,
     "metadata": {},
     "output_type": "execute_result"
    }
   ],
   "source": [
    "[d for d in dir(r) if 'evt' in d]"
   ]
  },
  {
   "cell_type": "code",
   "execution_count": 8,
   "id": "65052277-34a6-44de-a4ca-cc4f25d42766",
   "metadata": {},
   "outputs": [
    {
     "name": "stdout",
     "output_type": "stream",
     "text": [
      "ScriptID: 100000, private_revCode: 2b995d87, private_sndStamp: 1626201895.7813773, private_rcvStamp: 1626201895.819522, private_seqNum: 1, private_identity: Script:100000, private_origin: 1064, private_host: 0, state: 1, reason: , groupId: , lastCheckpoint: , priority: 0\n"
     ]
    }
   ],
   "source": [
    "d = await r.evt_state.aget()\n",
    "print(d)"
   ]
  }
 ],
 "metadata": {
  "kernelspec": {
   "display_name": "Python 3",
   "language": "python",
   "name": "python3"
  },
  "language_info": {
   "codemirror_mode": {
    "name": "ipython",
    "version": 3
   },
   "file_extension": ".py",
   "mimetype": "text/x-python",
   "name": "python",
   "nbconvert_exporter": "python",
   "pygments_lexer": "ipython3",
   "version": "3.8.8"
  }
 },
 "nbformat": 4,
 "nbformat_minor": 5
}
