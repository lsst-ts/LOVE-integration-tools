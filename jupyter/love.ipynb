{
 "cells": [
  {
   "cell_type": "code",
   "execution_count": null,
   "metadata": {},
   "outputs": [],
   "source": [
    "# This file is part of LOVE-integration-tools.\n",
    "#\n",
    "# Copyright (c) 2023 Inria Chile.\n",
    "#\n",
    "# Developed by Inria Chile.\n",
    "#\n",
    "# This program is free software: you can redistribute it and/or modify\n",
    "# it under the terms of the GNU General Public License as published by\n",
    "# the Free Software Foundation, either version 3 of the License, or at\n",
    "# your option any later version.\n",
    "#\n",
    "# This program is distributed in the hope that it will be useful,but\n",
    "# WITHOUT ANY WARRANTY; without even the implied warranty of MERCHANTABILITY\n",
    "# or FITNESS FOR A PARTICULAR PURPOSE. See the GNU General Public License\n",
    "# for more details.\n",
    "#\n",
    "# You should have received a copy of the GNU General Public License along with\n",
    "# this program. If not, see <http://www.gnu.org/licenses/>."
   ]
  },
  {
   "cell_type": "code",
   "execution_count": null,
   "metadata": {},
   "outputs": [],
   "source": [
    "from lsst.ts import salobj"
   ]
  },
  {
   "cell_type": "code",
   "execution_count": null,
   "metadata": {},
   "outputs": [],
   "source": [
    "love_csc = salobj.Controller(\"LOVE\", index=None, do_callbacks=False)\n",
    "await love_csc.start_task"
   ]
  },
  {
   "cell_type": "code",
   "execution_count": null,
   "metadata": {},
   "outputs": [],
   "source": [
    "love_csc.evt_observingLog.set(user=\"User\", message=\"Log message\")\n",
    "love_csc.evt_observingLog.put()"
   ]
  }
 ],
 "metadata": {
  "kernelspec": {
   "display_name": "Python 3",
   "language": "python",
   "name": "python3"
  },
  "language_info": {
   "codemirror_mode": {
    "name": "ipython",
    "version": 3
   },
   "file_extension": ".py",
   "mimetype": "text/x-python",
   "name": "python",
   "nbconvert_exporter": "python",
   "pygments_lexer": "ipython3",
   "version": "3.7.8"
  }
 },
 "nbformat": 4,
 "nbformat_minor": 4
}
