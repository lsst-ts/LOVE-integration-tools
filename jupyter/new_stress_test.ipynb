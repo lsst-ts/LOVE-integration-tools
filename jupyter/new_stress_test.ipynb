{
 "cells": [
  {
   "cell_type": "code",
   "execution_count": null,
   "id": "5feda0fe",
   "metadata": {},
   "outputs": [],
   "source": [
    "# This file is part of LOVE-integration-tools.\n",
    "#\n",
    "# Copyright (c) 2023 Inria Chile.\n",
    "#\n",
    "# Developed by Inria Chile.\n",
    "#\n",
    "# This program is free software: you can redistribute it and/or modify\n",
    "# it under the terms of the GNU General Public License as published by\n",
    "# the Free Software Foundation, either version 3 of the License, or at\n",
    "# your option any later version.\n",
    "#\n",
    "# This program is distributed in the hope that it will be useful,but\n",
    "# WITHOUT ANY WARRANTY; without even the implied warranty of MERCHANTABILITY\n",
    "# or FITNESS FOR A PARTICULAR PURPOSE. See the GNU General Public License\n",
    "# for more details.\n",
    "#\n",
    "# You should have received a copy of the GNU General Public License along with\n",
    "# this program. If not, see <http://www.gnu.org/licenses/>."
   ]
  },
  {
   "cell_type": "markdown",
   "id": "9f451fd5-7266-43c0-adff-9a45b1c07970",
   "metadata": {},
   "source": [
    "# LOVE stress test\n",
    "\n",
    "The following code is used to stress test a particular instance of the LOVE stack. This is done by generating several client connections (`N_CLIENTS`) for a specific LOVE-manager deploy (`MANAGER_LOCATION`). These clients will subscribe to all the telemetries and events of the specified CSCs (`LOVE_PRODUCER_SET`), will start listening to messages and for each of them will calculate timestamp difference to calculate the latency of the message. This latency is understood as the time between a message is received from SAL and the time it is received by the client.\n",
    "\n",
    "This test is supposed to run alongside a LOVE deployment with the following components:\n",
    "\n",
    "- LOVE-manager\n",
    "- LOVE-producer(s) for each of the CSCs in `LOVE_PRODUCER_SET`\n",
    "\n",
    "Also credentials for access are required in order to connect to a specific LOVE-manager deploy (`MANAGER_USER` and `MANAGER_PASSWORD`)"
   ]
  },
  {
   "cell_type": "code",
   "execution_count": 6,
   "id": "5af66fae-da78-46a0-b597-43c941ff3ba3",
   "metadata": {},
   "outputs": [],
   "source": [
    "MANAGER_LOCATION = 'dev.love.inria.cl' # Host of the LOVE-manager\n",
    "MANAGER_USER = 'test' # User to connect to the LOVE-manager\n",
    "MANAGER_PASSWORD = 'test' # User password to connect to the LOVE-manager\n",
    "N_CLIENTS = 20 # Number of clients to simulate\n",
    "LOVE_PRODUCER_SET = {'ATDome:0', 'ATAOS:0', 'ATCamera:0', 'ATHexapod:0', 'ATMCS:0', 'ATPneumatics:0', 'ATSpectrograph:0',\n",
    "                     'MTDome:0', 'MTMount:0', 'MTM2:0', 'MTM1M3:0', 'MTRotator:0', 'MTM1M3:0', 'MTHexapod:1', 'MTHexapod:2',\n",
    "                     'WeatherStation:1' } # Set of Producers to use as emitters\n",
    "#LOVE_PRODUCER_SET = {'ATDome:0', 'ATAOS:0'} # Set of Producers to use as emitters"
   ]
  },
  {
   "cell_type": "code",
   "execution_count": 7,
   "id": "283465a3-088e-4de6-991a-a262db189c40",
   "metadata": {},
   "outputs": [
    {
     "name": "stdout",
     "output_type": "stream",
     "text": [
      "{'ATAOS:0': ('atspectrographCorrectionCompleted', 'atspectrographCorrectionStarted', 'authList', 'configurationApplied', 'configurationsAvailable', 'correctionEnabled', 'correctionOffsets', 'detailedState', 'errorCode', 'focusCorrectionCompleted', 'focusCorrectionStarted', 'focusOffsetSummary', 'heartbeat', 'hexapodCorrectionCompleted', 'hexapodCorrectionStarted', 'logLevel', 'logMessage', 'm1CorrectionCompleted', 'm1CorrectionStarted', 'm2CorrectionCompleted', 'm2CorrectionStarted', 'pointingOffsetSummary', 'simulationMode', 'softwareVersions', 'summaryState'), 'ATDome:0': ('allAxesInPosition', 'authList', 'azimuthCommandedState', 'azimuthInPosition', 'azimuthState', 'configurationApplied', 'configurationsAvailable', 'doorEncoderExtremes', 'dropoutDoorCommandedState', 'dropoutDoorState', 'emergencyStop', 'errorCode', 'heartbeat', 'lastAzimuthGoTo', 'logLevel', 'logMessage', 'mainDoorCommandedState', 'mainDoorState', 'moveCode', 'scbLink', 'settingsAppliedDomeController', 'settingsAppliedDomeTcp', 'shutterInPosition', 'simulationMode', 'softwareVersions', 'summaryState')} {'ATAOS:0': ('timestamp',), 'ATDome:0': ('position',)}\n"
     ]
    }
   ],
   "source": [
    "from lsst.ts import salobj\n",
    "domain = salobj.Domain()\n",
    "event_streams = { producer: salobj.SalInfo(domain, producer.split(':')[0]).__getattribute__(f\"event_names\") for producer in LOVE_PRODUCER_SET }\n",
    "telemetry_streams = { producer: salobj.SalInfo(domain, producer.split(':')[0]).__getattribute__(f\"telemetry_names\") for producer in LOVE_PRODUCER_SET }\n",
    "print(event_streams, telemetry_streams)"
   ]
  },
  {
   "cell_type": "code",
   "execution_count": 8,
   "id": "1686aa45-31bf-4e3c-ae73-87580da909b9",
   "metadata": {},
   "outputs": [],
   "source": [
    "import aiohttp\n",
    "import json\n",
    "import asyncio\n",
    "import requests\n",
    "from astropy.time import Time\n",
    "\n",
    "class clientInstance:\n",
    "    \n",
    "    def __init__(self):\n",
    "        self.latencies = []\n",
    "        self.rcv_latencies = []\n",
    "        self.websocket_url = ''\n",
    "        self.received_messages = 0\n",
    "        self.msg_traces = []\n",
    "    \n",
    "    def request_token(self):\n",
    "        url = f'http://{MANAGER_LOCATION}/manager/api/get-token/'\n",
    "        data = {\n",
    "            'username': MANAGER_USER,\n",
    "            'password': MANAGER_PASSWORD,\n",
    "        }\n",
    "        resp = requests.post(url, data = data)\n",
    "        token = resp.json()['token']\n",
    "        self.websocket_url = f'ws://{MANAGER_LOCATION}/manager/ws/subscription?token={token}'\n",
    "    \n",
    "    async def handle_message_reception(self):\n",
    "        \"\"\"Handles the reception of messages\"\"\"\n",
    "        if self.websocket:\n",
    "            async for message in self.websocket:\n",
    "                if message.type == aiohttp.WSMsgType.TEXT:\n",
    "                    msg = json.loads(message.data)\n",
    "                    if 'category' not in msg or (\"option\" in msg and msg[\"option\"] == \"subscribe\"):\n",
    "                        continue\n",
    "                    self.received_messages = self.received_messages + 1\n",
    "                    #print(msg)\n",
    "                    tracing = msg[\"tracing\"]\n",
    "                    tracing['client_rcv'] = Time.now().tai.datetime.timestamp()\n",
    "                    self.msg_traces.append(tracing)\n",
    "    \n",
    "    async def subscribe_to(self, csc, salindex, stream, topic_type):\n",
    "        subscribe_msg = {\n",
    "            'option': 'subscribe',\n",
    "            'category': topic_type,\n",
    "            'csc': csc,\n",
    "            'salindex': salindex,\n",
    "            'stream': stream\n",
    "        }\n",
    "        await self.websocket.send_str(json.dumps(subscribe_msg))\n",
    "    \n",
    "    async def start_ws_client(self):\n",
    "        async with aiohttp.ClientSession() as session:\n",
    "            self.websocket = await session.ws_connect(self.websocket_url)\n",
    "            for producer in LOVE_PRODUCER_SET:\n",
    "                csc_tokens = producer.split(':')\n",
    "                for stream in event_streams[producer]:\n",
    "                    await self.subscribe_to(csc_tokens[0], csc_tokens[1], stream, 'event')\n",
    "                for stream in telemetry_streams[producer]:\n",
    "                    await self.subscribe_to(csc_tokens[0], csc_tokens[1], stream, 'telemetry')\n",
    "                \n",
    "            await self.handle_message_reception()\n"
   ]
  },
  {
   "cell_type": "code",
   "execution_count": 9,
   "id": "19291156-73f6-4a55-9ff7-c0c1faf67843",
   "metadata": {},
   "outputs": [],
   "source": [
    "# Create clients and listen to ws messages\n",
    "loop = asyncio.get_event_loop()\n",
    "clients = [clientInstance() for i in range(N_CLIENTS)]\n",
    "[c.request_token() for c in clients]\n",
    "client_tasks = [loop.create_task(c.start_ws_client()) for c in clients]"
   ]
  },
  {
   "cell_type": "code",
   "execution_count": 15,
   "id": "227faa14-70dd-4abb-8a90-1a5bb6142ae8",
   "metadata": {},
   "outputs": [
    {
     "data": {
      "text/plain": [
       "122"
      ]
     },
     "execution_count": 15,
     "metadata": {},
     "output_type": "execute_result"
    }
   ],
   "source": [
    "clients[0].received_messages"
   ]
  },
  {
   "cell_type": "code",
   "execution_count": 16,
   "id": "46c66583-d078-4131-a285-bbbc499abd45",
   "metadata": {},
   "outputs": [
    {
     "data": {
      "text/plain": [
       "[<matplotlib.lines.Line2D at 0x7fe5f826f340>]"
      ]
     },
     "execution_count": 16,
     "metadata": {},
     "output_type": "execute_result"
    },
    {
     "data": {
      "image/png": "[encoded data removed]",
      "text/plain": [
       "<Figure size 432x288 with 1 Axes>"
      ]
     },
     "metadata": {
      "needs_background": "light"
     },
     "output_type": "display_data"
    }
   ],
   "source": [
    "import matplotlib.pyplot as plt\n",
    "traces = [trace for client in clients for trace in client.msg_traces]\n",
    "producer_snd_vals = sorted([trace['producer_snd'] for trace in traces])\n",
    "manager_snd_client_vals = sorted([trace['manager_snd_to_client'] for trace in traces])\n",
    "#latency_vals = sorted([trace['client_rcv'] - trace['producer_snd'] for trace in traces])\n",
    "latency_vals = [trace['client_rcv'] - trace['producer_snd'] for trace in traces]\n",
    "#plt.plot(producer_snd_vals)\n",
    "#plt.plot(manager_snd_client_vals)\n",
    "plt.plot(latency_vals)"
   ]
  },
  {
   "cell_type": "code",
   "execution_count": 17,
   "id": "84793dbe-ed4e-4a43-9d35-cb4eac3a5ddd",
   "metadata": {},
   "outputs": [
    {
     "name": "stdout",
     "output_type": "stream",
     "text": [
      "Average Latency: 37.51051235034214 ms\n"
     ]
    }
   ],
   "source": [
    "from statistics import mean\n",
    "average_latency = mean(latency_vals)\n",
    "print(f\"Average Latency: {average_latency} ms\")"
   ]
  },
  {
   "cell_type": "code",
   "execution_count": null,
   "id": "96183149-4334-479c-ab2b-e77dc59889b7",
   "metadata": {},
   "outputs": [],
   "source": [
    "import psutil\n",
    "print(psutil.cpu_percent())\n",
    "print(psutil.virtual_memory()._asdict())"
   ]
  }
 ],
 "metadata": {
  "kernelspec": {
   "display_name": "Python 3 (ipykernel)",
   "language": "python",
   "name": "python3"
  },
  "language_info": {
   "codemirror_mode": {
    "name": "ipython",
    "version": 3
   },
   "file_extension": ".py",
   "mimetype": "text/x-python",
   "name": "python",
   "nbconvert_exporter": "python",
   "pygments_lexer": "ipython3",
   "version": "3.8.13"
  }
 },
 "nbformat": 4,
 "nbformat_minor": 5
}
