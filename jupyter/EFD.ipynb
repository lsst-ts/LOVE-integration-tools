{
 "cells": [
  {
   "cell_type": "code",
   "execution_count": null,
   "id": "0fce582f",
   "metadata": {},
   "outputs": [],
   "source": [
    "# This file is part of LOVE-integration-tools\n",
    "#\n",
    "# Developed for the LSST Telescope and Site Systems.\n",
    "# This product includes software developed by Inria Chile and the LSST Project\n",
    "# (https://www.lsst.org).\n",
    "# See the COPYRIGHT file at the top-level directory of this distribution\n",
    "# for details of code ownership.\n",
    "#\n",
    "# This program is free software: you can redistribute it and/or modify\n",
    "# it under the terms of the GNU General Public License as published by\n",
    "# the Free Software Foundation, either version 3 of the License, or\n",
    "# (at your option) any later version.\n",
    "#\n",
    "# This program is distributed in the hope that it will be useful,\n",
    "# but WITHOUT ANY WARRANTY; without even the implied warranty of\n",
    "# MERCHANTABILITY or FITNESS FOR A PARTICULAR PURPOSE.  See the\n",
    "# GNU General Public License for more details.\n",
    "#\n",
    "# You should have received a copy of the GNU General Public License"
   ]
  },
  {
   "cell_type": "markdown",
   "id": "a37ccb41-3cf3-41c1-8bdc-2c156ca08459",
   "metadata": {
    "tags": []
   },
   "source": [
    "## IMPORTANT! The following notebook needs Summit VPN connection to be run"
   ]
  },
  {
   "cell_type": "code",
   "execution_count": 1,
   "id": "8bd143bf-544c-475f-9268-86392c39d458",
   "metadata": {},
   "outputs": [
    {
     "name": "stdout",
     "output_type": "stream",
     "text": [
      "\u001b[33mWARNING: The directory '/home/saluser/.cache/pip' or its parent directory is not owned or is not writable by the current user. The cache has been disabled. Check the permissions and owner of that directory. If executing pip with sudo, you should use sudo's -H flag.\u001b[0m\n",
      "Requirement already satisfied: lsst_efd_client in /opt/lsst/software/stack/conda/miniconda3-py38_4.9.2/envs/lsst-scipipe-0.7.0/lib/python3.8/site-packages (0.10.1)\n",
      "Requirement already satisfied: numpy>=1.16.5 in /opt/lsst/software/stack/conda/miniconda3-py38_4.9.2/envs/lsst-scipipe-0.7.0/lib/python3.8/site-packages (from lsst_efd_client) (1.20.3)\n",
      "Requirement already satisfied: astropy in /opt/lsst/software/stack/conda/miniconda3-py38_4.9.2/envs/lsst-scipipe-0.7.0/lib/python3.8/site-packages (from lsst_efd_client) (4.3.1)\n",
      "Requirement already satisfied: aioinflux in /opt/lsst/software/stack/conda/miniconda3-py38_4.9.2/envs/lsst-scipipe-0.7.0/lib/python3.8/site-packages (from lsst_efd_client) (0.9.0)\n",
      "Requirement already satisfied: kafkit in /opt/lsst/software/stack/conda/miniconda3-py38_4.9.2/envs/lsst-scipipe-0.7.0/lib/python3.8/site-packages (from lsst_efd_client) (0.1.1)\n",
      "Requirement already satisfied: tables in /opt/lsst/software/stack/conda/miniconda3-py38_4.9.2/envs/lsst-scipipe-0.7.0/lib/python3.8/site-packages (from lsst_efd_client) (3.6.1)\n",
      "Requirement already satisfied: pandas in /opt/lsst/software/stack/conda/miniconda3-py38_4.9.2/envs/lsst-scipipe-0.7.0/lib/python3.8/site-packages (from lsst_efd_client) (1.2.5)\n",
      "Requirement already satisfied: pyyaml in /opt/lsst/software/stack/conda/miniconda3-py38_4.9.2/envs/lsst-scipipe-0.7.0/lib/python3.8/site-packages (from lsst_efd_client) (6.0)\n",
      "Requirement already satisfied: ciso8601 in /opt/lsst/software/stack/conda/miniconda3-py38_4.9.2/envs/lsst-scipipe-0.7.0/lib/python3.8/site-packages (from aioinflux->lsst_efd_client) (2.2.0)\n",
      "Requirement already satisfied: aiohttp>=3.0 in /opt/lsst/software/stack/conda/miniconda3-py38_4.9.2/envs/lsst-scipipe-0.7.0/lib/python3.8/site-packages (from aioinflux->lsst_efd_client) (3.8.1)\n",
      "Requirement already satisfied: pyerfa>=1.7.3 in /opt/lsst/software/stack/conda/miniconda3-py38_4.9.2/envs/lsst-scipipe-0.7.0/lib/python3.8/site-packages (from astropy->lsst_efd_client) (2.0.0)\n",
      "Requirement already satisfied: uritemplate in /opt/lsst/software/stack/conda/miniconda3-py38_4.9.2/envs/lsst-scipipe-0.7.0/lib/python3.8/site-packages (from kafkit->lsst_efd_client) (4.1.1)\n",
      "Requirement already satisfied: fastavro in /opt/lsst/software/stack/conda/miniconda3-py38_4.9.2/envs/lsst-scipipe-0.7.0/lib/python3.8/site-packages (from kafkit->lsst_efd_client) (1.4.6)\n",
      "Requirement already satisfied: python-dateutil>=2.7.3 in /opt/lsst/software/stack/conda/miniconda3-py38_4.9.2/envs/lsst-scipipe-0.7.0/lib/python3.8/site-packages (from pandas->lsst_efd_client) (2.8.2)\n",
      "Requirement already satisfied: pytz>=2017.3 in /opt/lsst/software/stack/conda/miniconda3-py38_4.9.2/envs/lsst-scipipe-0.7.0/lib/python3.8/site-packages (from pandas->lsst_efd_client) (2021.3)\n",
      "Requirement already satisfied: numexpr>=2.6.2 in /opt/lsst/software/stack/conda/miniconda3-py38_4.9.2/envs/lsst-scipipe-0.7.0/lib/python3.8/site-packages (from tables->lsst_efd_client) (2.7.3)\n",
      "Requirement already satisfied: attrs>=17.3.0 in /opt/lsst/software/stack/conda/miniconda3-py38_4.9.2/envs/lsst-scipipe-0.7.0/lib/python3.8/site-packages (from aiohttp>=3.0->aioinflux->lsst_efd_client) (21.2.0)\n",
      "Requirement already satisfied: aiosignal>=1.1.2 in /opt/lsst/software/stack/conda/miniconda3-py38_4.9.2/envs/lsst-scipipe-0.7.0/lib/python3.8/site-packages (from aiohttp>=3.0->aioinflux->lsst_efd_client) (1.2.0)\n",
      "Requirement already satisfied: charset-normalizer<3.0,>=2.0 in /opt/lsst/software/stack/conda/miniconda3-py38_4.9.2/envs/lsst-scipipe-0.7.0/lib/python3.8/site-packages (from aiohttp>=3.0->aioinflux->lsst_efd_client) (2.0.0)\n",
      "Requirement already satisfied: yarl<2.0,>=1.0 in /opt/lsst/software/stack/conda/miniconda3-py38_4.9.2/envs/lsst-scipipe-0.7.0/lib/python3.8/site-packages (from aiohttp>=3.0->aioinflux->lsst_efd_client) (1.7.2)\n",
      "Requirement already satisfied: multidict<7.0,>=4.5 in /opt/lsst/software/stack/conda/miniconda3-py38_4.9.2/envs/lsst-scipipe-0.7.0/lib/python3.8/site-packages (from aiohttp>=3.0->aioinflux->lsst_efd_client) (6.0.2)\n",
      "Requirement already satisfied: frozenlist>=1.1.1 in /opt/lsst/software/stack/conda/miniconda3-py38_4.9.2/envs/lsst-scipipe-0.7.0/lib/python3.8/site-packages (from aiohttp>=3.0->aioinflux->lsst_efd_client) (1.3.0)\n",
      "Requirement already satisfied: async-timeout<5.0,>=4.0.0a3 in /opt/lsst/software/stack/conda/miniconda3-py38_4.9.2/envs/lsst-scipipe-0.7.0/lib/python3.8/site-packages (from aiohttp>=3.0->aioinflux->lsst_efd_client) (4.0.2)\n",
      "Requirement already satisfied: six>=1.5 in /opt/lsst/software/stack/conda/miniconda3-py38_4.9.2/envs/lsst-scipipe-0.7.0/lib/python3.8/site-packages (from python-dateutil>=2.7.3->pandas->lsst_efd_client) (1.16.0)\n",
      "Requirement already satisfied: idna>=2.0 in /opt/lsst/software/stack/conda/miniconda3-py38_4.9.2/envs/lsst-scipipe-0.7.0/lib/python3.8/site-packages (from yarl<2.0,>=1.0->aiohttp>=3.0->aioinflux->lsst_efd_client) (2.10)\n",
      "\u001b[33mWARNING: Running pip as the 'root' user can result in broken permissions and conflicting behaviour with the system package manager. It is recommended to use a virtual environment instead: https://pip.pypa.io/warnings/venv\u001b[0m\n"
     ]
    }
   ],
   "source": [
    "!pip install lsst_efd_client"
   ]
  },
  {
   "cell_type": "code",
   "execution_count": 3,
   "id": "916d94af-ebbc-4e6b-9a09-8554c2c27a00",
   "metadata": {},
   "outputs": [],
   "source": [
    "import lsst_efd_client\n",
    "from astropy.time import Time, TimeDelta"
   ]
  },
  {
   "cell_type": "code",
   "execution_count": 4,
   "id": "cf8137fe-feb6-4889-937d-8d09e912e59a",
   "metadata": {},
   "outputs": [],
   "source": [
    "EFD_INSTANCE = \"summit_efd\"\n",
    "client = lsst_efd_client.EfdClient(EFD_INSTANCE)"
   ]
  },
  {
   "cell_type": "code",
   "execution_count": 11,
   "id": "e5ce4e63-0e85-45ff-b3b4-d9150ea0bbac",
   "metadata": {},
   "outputs": [
    {
     "data": {
      "text/plain": [
       "{'private_rcvStamp': {Timestamp('2022-04-04 15:49:34.651000+0000', tz='UTC'): 1649087411.6516902,\n",
       "  Timestamp('2022-04-04 16:27:11.732000+0000', tz='UTC'): 1649089668.7324433,\n",
       "  Timestamp('2022-04-04 16:31:59.069000+0000', tz='UTC'): 1649089956.06926,\n",
       "  Timestamp('2022-04-04 16:32:33.007000+0000', tz='UTC'): 1649089990.0072362,\n",
       "  Timestamp('2022-04-04 16:36:55.369000+0000', tz='UTC'): 1649090252.369828,\n",
       "  Timestamp('2022-04-04 18:42:12.724000+0000', tz='UTC'): 1649097769.7243814,\n",
       "  Timestamp('2022-04-04 20:05:26.838000+0000', tz='UTC'): 1649102763.8382406},\n",
       " 'level': {Timestamp('2022-04-04 15:49:34.651000+0000', tz='UTC'): 30,\n",
       "  Timestamp('2022-04-04 16:27:11.732000+0000', tz='UTC'): 30,\n",
       "  Timestamp('2022-04-04 16:31:59.069000+0000', tz='UTC'): 30,\n",
       "  Timestamp('2022-04-04 16:32:33.007000+0000', tz='UTC'): 30,\n",
       "  Timestamp('2022-04-04 16:36:55.369000+0000', tz='UTC'): 50,\n",
       "  Timestamp('2022-04-04 18:42:12.724000+0000', tz='UTC'): 30,\n",
       "  Timestamp('2022-04-04 20:05:26.838000+0000', tz='UTC'): 30},\n",
       " 'message': {Timestamp('2022-04-04 15:49:34.651000+0000', tz='UTC'): 'The azimuth axis may not be homed.',\n",
       "  Timestamp('2022-04-04 16:27:11.732000+0000', tz='UTC'): 'The azimuth axis may not be homed.',\n",
       "  Timestamp('2022-04-04 16:31:59.069000+0000', tz='UTC'): 'The azimuth axis may not be homed.',\n",
       "  Timestamp('2022-04-04 16:32:33.007000+0000', tz='UTC'): 'The azimuth axis may not be homed.',\n",
       "  Timestamp('2022-04-04 16:36:55.369000+0000', tz='UTC'): \"Fault! errorCode=1, errorReport='Could not open connection to host=192.168.223.14, port=17310: '\",\n",
       "  Timestamp('2022-04-04 18:42:12.724000+0000', tz='UTC'): 'The azimuth axis may not be homed.',\n",
       "  Timestamp('2022-04-04 20:05:26.838000+0000', tz='UTC'): 'The azimuth axis may not be homed.'},\n",
       " 'traceback': {Timestamp('2022-04-04 15:49:34.651000+0000', tz='UTC'): '',\n",
       "  Timestamp('2022-04-04 16:27:11.732000+0000', tz='UTC'): '',\n",
       "  Timestamp('2022-04-04 16:31:59.069000+0000', tz='UTC'): '',\n",
       "  Timestamp('2022-04-04 16:32:33.007000+0000', tz='UTC'): '',\n",
       "  Timestamp('2022-04-04 16:36:55.369000+0000', tz='UTC'): '',\n",
       "  Timestamp('2022-04-04 18:42:12.724000+0000', tz='UTC'): '',\n",
       "  Timestamp('2022-04-04 20:05:26.838000+0000', tz='UTC'): ''}}"
      ]
     },
     "execution_count": 11,
     "metadata": {},
     "output_type": "execute_result"
    }
   ],
   "source": [
    "# Query for ATDome-0-logevent_logMessage\n",
    "csc = \"ATDome\"\n",
    "salindex = 0\n",
    "topic = \"logevent_logMessage\"\n",
    "parameters = ['private_rcvStamp', 'level', 'message', 'traceback']\n",
    "full_topic = f\"lsst.sal.{csc}.{topic}\"\n",
    "start_date = Time(\"2022-04-04T00:00:00\")\n",
    "end_date = Time(\"2022-04-04T23:59:59\")\n",
    "\n",
    "results = await client.select_time_series(\n",
    "    full_topic,\n",
    "    parameters,\n",
    "    start_date,\n",
    "    end_date\n",
    ")\n",
    "\n",
    "results.to_dict()"
   ]
  },
  {
   "cell_type": "code",
   "execution_count": 10,
   "id": "f616ac46-d8af-4b72-add0-0be4be112038",
   "metadata": {},
   "outputs": [
    {
     "data": {
      "text/html": [
       "<div>\n",
       "<style scoped>\n",
       "    .dataframe tbody tr th:only-of-type {\n",
       "        vertical-align: middle;\n",
       "    }\n",
       "\n",
       "    .dataframe tbody tr th {\n",
       "        vertical-align: top;\n",
       "    }\n",
       "\n",
       "    .dataframe thead th {\n",
       "        text-align: right;\n",
       "    }\n",
       "</style>\n",
       "<table border=\"1\" class=\"dataframe\">\n",
       "  <thead>\n",
       "    <tr style=\"text-align: right;\">\n",
       "      <th></th>\n",
       "      <th>private_rcvStamp</th>\n",
       "      <th>errorCode</th>\n",
       "      <th>errorReport</th>\n",
       "      <th>traceback</th>\n",
       "    </tr>\n",
       "  </thead>\n",
       "  <tbody>\n",
       "    <tr>\n",
       "      <th>2022-04-04 16:36:55.369000+00:00</th>\n",
       "      <td>1.649090e+09</td>\n",
       "      <td>1</td>\n",
       "      <td>Could not open connection to host=192.168.223....</td>\n",
       "      <td></td>\n",
       "    </tr>\n",
       "    <tr>\n",
       "      <th>2022-04-04 16:37:16.579000+00:00</th>\n",
       "      <td>1.649090e+09</td>\n",
       "      <td>0</td>\n",
       "      <td></td>\n",
       "      <td></td>\n",
       "    </tr>\n",
       "  </tbody>\n",
       "</table>\n",
       "</div>"
      ],
      "text/plain": [
       "                                  private_rcvStamp  errorCode  \\\n",
       "2022-04-04 16:36:55.369000+00:00      1.649090e+09          1   \n",
       "2022-04-04 16:37:16.579000+00:00      1.649090e+09          0   \n",
       "\n",
       "                                                                        errorReport  \\\n",
       "2022-04-04 16:36:55.369000+00:00  Could not open connection to host=192.168.223....   \n",
       "2022-04-04 16:37:16.579000+00:00                                                      \n",
       "\n",
       "                                 traceback  \n",
       "2022-04-04 16:36:55.369000+00:00            \n",
       "2022-04-04 16:37:16.579000+00:00            "
      ]
     },
     "execution_count": 10,
     "metadata": {},
     "output_type": "execute_result"
    }
   ],
   "source": [
    "# Query for ATDome-0-logevent_errorCode\n",
    "csc = \"ATDome\"\n",
    "salindex = 0\n",
    "topic = \"logevent_errorCode\"\n",
    "parameters = ['private_rcvStamp', 'errorCode', 'errorReport', 'traceback']\n",
    "full_topic = f\"lsst.sal.{csc}.{topic}\"\n",
    "start_date = Time(\"2022-04-04T00:00:00\")\n",
    "end_date = Time(\"2022-04-04T23:59:59\")\n",
    "\n",
    "results = await client.select_time_series(\n",
    "    full_topic,\n",
    "    parameters,\n",
    "    start_date,\n",
    "    end_date\n",
    ")\n",
    "\n",
    "results"
   ]
  },
  {
   "cell_type": "code",
   "execution_count": 30,
   "id": "07d70b71-0573-463d-ac56-668c7928c649",
   "metadata": {},
   "outputs": [
    {
     "data": {
      "text/plain": [
       "[{'private_rcvStamp': 1649087411.6516902,\n",
       "  'level': 30,\n",
       "  'message': 'The azimuth axis may not be homed.',\n",
       "  'traceback': ''},\n",
       " {'private_rcvStamp': 1649089668.7324433,\n",
       "  'level': 30,\n",
       "  'message': 'The azimuth axis may not be homed.',\n",
       "  'traceback': ''},\n",
       " {'private_rcvStamp': 1649089956.06926,\n",
       "  'level': 30,\n",
       "  'message': 'The azimuth axis may not be homed.',\n",
       "  'traceback': ''},\n",
       " {'private_rcvStamp': 1649089990.0072362,\n",
       "  'level': 30,\n",
       "  'message': 'The azimuth axis may not be homed.',\n",
       "  'traceback': ''},\n",
       " {'private_rcvStamp': 1649090252.369828,\n",
       "  'level': 50,\n",
       "  'message': \"Fault! errorCode=1, errorReport='Could not open connection to host=192.168.223.14, port=17310: '\",\n",
       "  'traceback': ''}]"
      ]
     },
     "execution_count": 30,
     "metadata": {},
     "output_type": "execute_result"
    }
   ],
   "source": [
    "results.to_dict(orient='records')"
   ]
  }
 ],
 "metadata": {
  "kernelspec": {
   "display_name": "Python 3 (ipykernel)",
   "language": "python",
   "name": "python3"
  },
  "language_info": {
   "codemirror_mode": {
    "name": "ipython",
    "version": 3
   },
   "file_extension": ".py",
   "mimetype": "text/x-python",
   "name": "python",
   "nbconvert_exporter": "python",
   "pygments_lexer": "ipython3",
   "version": "3.8.8"
  }
 },
 "nbformat": 4,
 "nbformat_minor": 5
}
