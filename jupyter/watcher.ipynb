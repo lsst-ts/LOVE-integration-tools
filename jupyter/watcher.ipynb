{
 "cells": [
  {
   "cell_type": "code",
   "execution_count": null,
   "metadata": {},
   "outputs": [],
   "source": [
    "# This file is part of LOVE-integration-tools.\n",
    "#\n",
    "# Copyright (c) 2023 Inria Chile.\n",
    "#\n",
    "# Developed by Inria Chile.\n",
    "#\n",
    "# This program is free software: you can redistribute it and/or modify\n",
    "# it under the terms of the GNU General Public License as published by\n",
    "# the Free Software Foundation, either version 3 of the License, or at\n",
    "# your option any later version.\n",
    "#\n",
    "# This program is distributed in the hope that it will be useful,but\n",
    "# WITHOUT ANY WARRANTY; without even the implied warranty of MERCHANTABILITY\n",
    "# or FITNESS FOR A PARTICULAR PURPOSE. See the GNU General Public License\n",
    "# for more details.\n",
    "#\n",
    "# You should have received a copy of the GNU General Public License along with\n",
    "# this program. If not, see <http://www.gnu.org/licenses/>."
   ]
  },
  {
   "cell_type": "code",
   "execution_count": null,
   "metadata": {},
   "outputs": [],
   "source": [
    "from lsst.ts import salobj"
   ]
  },
  {
   "cell_type": "markdown",
   "metadata": {},
   "source": [
    "# Watcher show alarms"
   ]
  },
  {
   "cell_type": "code",
   "execution_count": null,
   "metadata": {},
   "outputs": [],
   "source": [
    "rw = salobj.Remote(salobj.Domain(), 'Watcher')"
   ]
  },
  {
   "cell_type": "code",
   "execution_count": null,
   "metadata": {},
   "outputs": [],
   "source": [
    "await rw.cmd_showAlarms.start()"
   ]
  },
  {
   "cell_type": "markdown",
   "metadata": {},
   "source": [
    "# ScriptQueue"
   ]
  },
  {
   "cell_type": "code",
   "execution_count": 11,
   "metadata": {},
   "outputs": [
    {
     "name": "stderr",
     "output_type": "stream",
     "text": [
      "Could not read historical data in 60.19 sec\n",
      "RemoteEvent(ScriptQueue, 1, logMessage) falling behind; read 14 messages\n",
      "RemoteEvent(ScriptQueue, 1, logMessage) falling behind; read 14 messages\n",
      "RemoteEvent(ScriptQueue, 1, logMessage) falling behind; read 15 messages\n",
      "RemoteEvent(ScriptQueue, 1, logMessage) falling behind; read 15 messages\n",
      "RemoteEvent(ScriptQueue, 1, logMessage) falling behind; read 15 messages\n",
      "RemoteEvent(ScriptQueue, 1, queue) falling behind; read 24 messages\n",
      "RemoteEvent(ScriptQueue, 1, queue) falling behind; read 24 messages\n",
      "RemoteEvent(ScriptQueue, 1, queue) falling behind; read 24 messages\n",
      "RemoteEvent(ScriptQueue, 1, queue) falling behind; read 24 messages\n",
      "RemoteEvent(ScriptQueue, 1, queue) falling behind; read 23 messages\n",
      "RemoteEvent(ScriptQueue, 1, heartbeat) falling behind; read 100 messages\n",
      "RemoteEvent(ScriptQueue, 1, heartbeat) falling behind; read 100 messages\n",
      "RemoteEvent(ScriptQueue, 1, heartbeat) falling behind; read 100 messages\n",
      "RemoteEvent(ScriptQueue, 1, heartbeat) falling behind; read 100 messages\n",
      "RemoteEvent(ScriptQueue, 1, heartbeat) falling behind; read 97 messages\n"
     ]
    }
   ],
   "source": [
    "r = salobj.Remote(salobj.Domain(), 'ScriptQueue', 1)"
   ]
  },
  {
   "cell_type": "markdown",
   "metadata": {},
   "source": [
    "## Offline\n",
    "Offline will stop the CSC-sim, docker will restart it and it will go to Standby state"
   ]
  },
  {
   "cell_type": "code",
   "execution_count": null,
   "metadata": {},
   "outputs": [],
   "source": [
    "r.evt_summaryState.flush()\n",
    "\n",
    "offline = await salobj.set_summary_state(remote=r, state=salobj.State.OFFLINE)\n",
    "print('offline', offline)\n",
    "\n",
    "offline_ev = await r.evt_summaryState.next(flush=False)\n",
    "print('\\offline_ev', ev)\n",
    "\n",
    "standby_ev = await r.evt_summaryState.next(flush=False)\n",
    "print('standby_ev', ev)"
   ]
  },
  {
   "cell_type": "markdown",
   "metadata": {},
   "source": [
    "## Enabled"
   ]
  },
  {
   "cell_type": "code",
   "execution_count": 16,
   "metadata": {},
   "outputs": [
    {
     "data": {
      "text/plain": [
       "[<State.DISABLED: 1>, <State.ENABLED: 2>]"
      ]
     },
     "execution_count": 16,
     "metadata": {},
     "output_type": "execute_result"
    }
   ],
   "source": [
    "await salobj.set_summary_state(remote=r, state=salobj.State.ENABLED)"
   ]
  },
  {
   "cell_type": "markdown",
   "metadata": {},
   "source": [
    "## Standby"
   ]
  },
  {
   "cell_type": "code",
   "execution_count": 12,
   "metadata": {},
   "outputs": [
    {
     "data": {
      "text/plain": [
       "[<State.ENABLED: 2>, <State.DISABLED: 1>, <State.STANDBY: 5>]"
      ]
     },
     "execution_count": 12,
     "metadata": {},
     "output_type": "execute_result"
    }
   ],
   "source": [
    "await salobj.set_summary_state(remote=r, state=salobj.State.STANDBY)"
   ]
  },
  {
   "cell_type": "markdown",
   "metadata": {},
   "source": [
    "## Disabled"
   ]
  },
  {
   "cell_type": "code",
   "execution_count": 15,
   "metadata": {},
   "outputs": [
    {
     "data": {
      "text/plain": [
       "[<State.ENABLED: 2>, <State.DISABLED: 1>]"
      ]
     },
     "execution_count": 15,
     "metadata": {},
     "output_type": "execute_result"
    }
   ],
   "source": [
    "await salobj.set_summary_state(remote=r, state=salobj.State.DISABLED)"
   ]
  },
  {
   "cell_type": "code",
   "execution_count": null,
   "metadata": {},
   "outputs": [],
   "source": []
  }
 ],
 "metadata": {
  "file_extension": ".py",
  "kernelspec": {
   "display_name": "Python 3",
   "language": "python",
   "name": "python3"
  },
  "language_info": {
   "codemirror_mode": {
    "name": "ipython",
    "version": 3
   },
   "file_extension": ".py",
   "mimetype": "text/x-python",
   "name": "python",
   "nbconvert_exporter": "python",
   "pygments_lexer": "ipython3",
   "version": "3.7.2"
  },
  "mimetype": "text/x-python",
  "name": "python",
  "npconvert_exporter": "python",
  "pygments_lexer": "ipython3",
  "version": 3
 },
 "nbformat": 4,
 "nbformat_minor": 2
}
