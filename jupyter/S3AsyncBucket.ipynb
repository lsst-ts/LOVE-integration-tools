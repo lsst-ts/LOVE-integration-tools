{
 "cells": [
  {
   "cell_type": "code",
   "execution_count": null,
   "id": "6ecd2662",
   "metadata": {},
   "outputs": [],
   "source": [
    "# This file is part of LOVE-integration-tools\n",
    "#\n",
    "# Developed for the LSST Telescope and Site Systems.\n",
    "# This product includes software developed by Inria Chile and the LSST Project\n",
    "# (https://www.lsst.org).\n",
    "# See the COPYRIGHT file at the top-level directory of this distribution\n",
    "# for details of code ownership.\n",
    "#\n",
    "# This program is free software: you can redistribute it and/or modify\n",
    "# it under the terms of the GNU General Public License as published by\n",
    "# the Free Software Foundation, either version 3 of the License, or\n",
    "# (at your option) any later version.\n",
    "#\n",
    "# This program is distributed in the hope that it will be useful,\n",
    "# but WITHOUT ANY WARRANTY; without even the implied warranty of\n",
    "# MERCHANTABILITY or FITNESS FOR A PARTICULAR PURPOSE.  See the\n",
    "# GNU General Public License for more details.\n",
    "#\n",
    "# You should have received a copy of the GNU General Public License"
   ]
  },
  {
   "cell_type": "code",
   "execution_count": 1,
   "id": "d038b942-b666-4429-b050-8f560d056b45",
   "metadata": {},
   "outputs": [
    {
     "name": "stderr",
     "output_type": "stream",
     "text": [
      "current_tai uses current_tai_from_utc; clock_gettime(CLOCK_TAI) is off by 37.0 seconds\n"
     ]
    }
   ],
   "source": [
    "from lsst.ts import utils\n",
    "from lsst.ts import salobj"
   ]
  },
  {
   "cell_type": "code",
   "execution_count": 2,
   "id": "54346c5c-41f4-499a-b2d3-4566a5c14da2",
   "metadata": {},
   "outputs": [],
   "source": [
    "s3_bucket_name = salobj.AsyncS3Bucket.make_bucket_name(s3instance = 'Tucson')"
   ]
  },
  {
   "cell_type": "code",
   "execution_count": 3,
   "id": "e41cbd04-8124-44b2-a35c-f10ddb45d60f",
   "metadata": {},
   "outputs": [
    {
     "data": {
      "text/plain": [
       "'rubinobs-lfa-tucson'"
      ]
     },
     "execution_count": 3,
     "metadata": {},
     "output_type": "execute_result"
    }
   ],
   "source": [
    "s3_bucket_name"
   ]
  },
  {
   "cell_type": "code",
   "execution_count": 4,
   "id": "270b8f75-f69c-48bc-a32e-eaa75a55e47b",
   "metadata": {},
   "outputs": [],
   "source": [
    "mock_s3 = True"
   ]
  },
  {
   "cell_type": "code",
   "execution_count": 5,
   "id": "0c78b729-6be2-4f4e-82b2-ea61308d3a85",
   "metadata": {},
   "outputs": [
    {
     "name": "stdout",
     "output_type": "stream",
     "text": [
      "mock type=<class 'moto.core.models.BotocoreEventMockAWS'>\n"
     ]
    }
   ],
   "source": [
    "s3_bucket = salobj.AsyncS3Bucket(name=s3_bucket_name, domock=mock_s3, create=mock_s3)"
   ]
  },
  {
   "cell_type": "code",
   "execution_count": 6,
   "id": "80b5e3ac-2b33-4d40-9944-142ed004506e",
   "metadata": {},
   "outputs": [
    {
     "name": "stdout",
     "output_type": "stream",
     "text": [
      "https://s3.amazonaws.com\n"
     ]
    }
   ],
   "source": [
    "print(s3_bucket.service_resource.meta.client.meta.endpoint_url)"
   ]
  },
  {
   "cell_type": "code",
   "execution_count": 7,
   "id": "01f57253-e95c-4d73-858f-a24c599d8e7f",
   "metadata": {},
   "outputs": [],
   "source": [
    "key = s3_bucket.make_key(\n",
    "    salname='LOVE',\n",
    "    salindexname=0,\n",
    "    generator='OLE',\n",
    "    date=utils.astropy_time_from_tai_unix(utils.current_tai()),\n",
    "    suffix='.dat',\n",
    ")"
   ]
  },
  {
   "cell_type": "code",
   "execution_count": 8,
   "id": "181b8bf0-02d6-448f-a4bd-d12186d1dd35",
   "metadata": {},
   "outputs": [],
   "source": [
    "file_object = open(\"test.txt\", \"rb\")"
   ]
  },
  {
   "cell_type": "code",
   "execution_count": 9,
   "id": "5e1d0e50-f00c-4e4a-8070-0479ade9e457",
   "metadata": {},
   "outputs": [
    {
     "name": "stdout",
     "output_type": "stream",
     "text": [
      "File uploaded correctly!\n",
      "https://s3.amazonaws.com/rubinobs-lfa-tucson/LOVE/LOVE:0/2022/07/14/LOVE_LOVE:0_2022-07-14T21:45:40.303.dat\n"
     ]
    }
   ],
   "source": [
    "try:\n",
    "    await s3_bucket.upload(fileobj=file_object, key=key)\n",
    "    print(\"File uploaded correctly!\")\n",
    "    print(f\"{s3_bucket.service_resource.meta.client.meta.endpoint_url}/{s3_bucket.name}/{key}\")\n",
    "except Exception as e:\n",
    "    print(\"File could not be uploaded\")\n",
    "    print(e)"
   ]
  },
  {
   "cell_type": "code",
   "execution_count": 10,
   "id": "7cba4ec9-c27e-419c-94f2-918bb6a66a69",
   "metadata": {},
   "outputs": [],
   "source": [
    "s3_bucket.stop_mock()"
   ]
  },
  {
   "cell_type": "code",
   "execution_count": 11,
   "id": "60887831-2902-4504-b9d1-6ab49c31b77f",
   "metadata": {},
   "outputs": [
    {
     "name": "stdout",
     "output_type": "stream",
     "text": [
      "s3://rubinobs-lfa-tucson/LOVE/LOVE:0/2022/07/14/LOVE_LOVE:0_2022-07-14T21:45:40.303.dat\n"
     ]
    }
   ],
   "source": [
    "url = f\"s3://{s3_bucket_name}/{key}\"\n",
    "print(url)"
   ]
  },
  {
   "cell_type": "code",
   "execution_count": 12,
   "id": "99ff6f8b-abc4-4536-84c6-c2a2785560d4",
   "metadata": {},
   "outputs": [],
   "source": [
    "csc = salobj.Controller(\"LOVE\", index=None, do_callbacks=False)\n",
    "await csc.start_task"
   ]
  },
  {
   "cell_type": "code",
   "execution_count": 14,
   "id": "26f63c29-f748-4a65-865b-105b2b051b97",
   "metadata": {},
   "outputs": [
    {
     "ename": "AttributeError",
     "evalue": "'Controller' object has no attribute 'evt_largeFileObjectAvailable'",
     "output_type": "error",
     "traceback": [
      "\u001b[0;31m---------------------------------------------------------------------------\u001b[0m",
      "\u001b[0;31mAttributeError\u001b[0m                            Traceback (most recent call last)",
      "Input \u001b[0;32mIn [14]\u001b[0m, in \u001b[0;36m<cell line: 1>\u001b[0;34m()\u001b[0m\n\u001b[0;32m----> 1\u001b[0m \u001b[38;5;28;01mawait\u001b[39;00m csc\u001b[38;5;241m.\u001b[39mevt_largeFileObjectAvailable\u001b[38;5;241m.\u001b[39mset_write(\n\u001b[1;32m      2\u001b[0m     url\u001b[38;5;241m=\u001b[39murl, generator\u001b[38;5;241m=\u001b[39m\u001b[38;5;124mf\u001b[39m\u001b[38;5;124m\"\u001b[39m\u001b[38;5;132;01m{\u001b[39;00m\u001b[38;5;28mself\u001b[39m\u001b[38;5;241m.\u001b[39msalinfo\u001b[38;5;241m.\u001b[39mname\u001b[38;5;132;01m}\u001b[39;00m\u001b[38;5;124m:\u001b[39m\u001b[38;5;132;01m{\u001b[39;00m\u001b[38;5;28mself\u001b[39m\u001b[38;5;241m.\u001b[39msalinfo\u001b[38;5;241m.\u001b[39mindex\u001b[38;5;132;01m}\u001b[39;00m\u001b[38;5;124m\"\u001b[39m\n\u001b[1;32m      3\u001b[0m )\n",
      "\u001b[0;31mAttributeError\u001b[0m: 'Controller' object has no attribute 'evt_largeFileObjectAvailable'"
     ]
    }
   ],
   "source": [
    "await csc.evt_largeFileObjectAvailable.set_write(\n",
    "    url=url, generator=f\"{self.salinfo.name}:{self.salinfo.index}\"\n",
    ")"
   ]
  },
  {
   "cell_type": "code",
   "execution_count": 15,
   "id": "e415e227-f2fc-42da-bb71-eb84703d7ef8",
   "metadata": {},
   "outputs": [
    {
     "data": {
      "text/plain": [
       "<lsst.ts.salobj.topics.write_topic.SetWriteResult at 0x7f1ad9aceb50>"
      ]
     },
     "execution_count": 15,
     "metadata": {},
     "output_type": "execute_result"
    }
   ],
   "source": [
    "user = \"user\"\n",
    "message = \"message\"\n",
    "await csc.evt_observingLog.set_write(user=user, message=message)"
   ]
  }
 ],
 "metadata": {
  "kernelspec": {
   "display_name": "Python 3 (ipykernel)",
   "language": "python",
   "name": "python3"
  },
  "language_info": {
   "codemirror_mode": {
    "name": "ipython",
    "version": 3
   },
   "file_extension": ".py",
   "mimetype": "text/x-python",
   "name": "python",
   "nbconvert_exporter": "python",
   "pygments_lexer": "ipython3",
   "version": "3.8.13"
  }
 },
 "nbformat": 4,
 "nbformat_minor": 5
}
